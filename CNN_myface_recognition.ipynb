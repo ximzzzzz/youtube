{
 "cells": [
  {
   "cell_type": "code",
   "execution_count": 1,
   "metadata": {},
   "outputs": [],
   "source": [
    "import tensorflow as tf\n",
    "import os\n",
    "import numpy as np\n",
    "import matplotlib.pyplot as plt\n",
    "import cv2"
   ]
  },
  {
   "cell_type": "markdown",
   "metadata": {},
   "source": [
    "# image resizing"
   ]
  },
  {
   "cell_type": "code",
   "execution_count": 64,
   "metadata": {},
   "outputs": [],
   "source": [
    "search_dir = 'c:/users/ximzz/desktop/face/crop'\n",
    "height=[]\n",
    "width=[]\n",
    "for root, dirs, files in os.walk(search_dir):\n",
    "\n",
    "    for file in files:\n",
    "\n",
    "        image_files = 'c:/users/ximzz/desktop/face/crop/'+file\n",
    "        image = cv2.imread(image_files)\n",
    "        height.append(image.shape[0])\n",
    "        width.append(image.shape[1])"
   ]
  },
  {
   "cell_type": "code",
   "execution_count": 65,
   "metadata": {},
   "outputs": [
    {
     "name": "stdout",
     "output_type": "stream",
     "text": [
      "891\n",
      "696\n"
     ]
    }
   ],
   "source": [
    "print(int(np.mean(height)))\n",
    "print(int(np.mean(width)))"
   ]
  },
  {
   "cell_type": "code",
   "execution_count": 66,
   "metadata": {},
   "outputs": [],
   "source": [
    "for root, dirs, files in os.walk(search_dir):\n",
    "\n",
    "    for file in files:\n",
    "\n",
    "        image_files = 'c:/users/ximzz/desktop/face/crop/'+file\n",
    "        image = cv2.imread(image_files)\n",
    "        resized = cv2.resize(image,(768,983))\n",
    "        cv2.imwrite('c:/users/ximzz/desktop/face/crop/resize/'+file, resized)"
   ]
  },
  {
   "cell_type": "markdown",
   "metadata": {},
   "source": [
    "# load dataset"
   ]
  },
  {
   "cell_type": "code",
   "execution_count": 5,
   "metadata": {},
   "outputs": [
    {
     "name": "stdout",
     "output_type": "stream",
     "text": [
      "0162671.jpg\n",
      "0164780.jpg\n",
      "0281626.jpg\n",
      "0282585.jpg\n",
      "0625584.jpg\n",
      "1.jpg\n",
      "10.jpg\n",
      "11.jpg\n",
      "12.jpg\n",
      "1273975.jpg\n",
      "12741023.jpg\n",
      "1380735.jpg\n",
      "1381683.jpg\n",
      "1452458.jpg\n",
      "1453511.jpg\n",
      "16071107.jpg\n",
      "1672581.jpg\n",
      "1674610.jpg\n",
      "2.jpg\n",
      "3.jpg\n",
      "4.jpg\n",
      "5.jpg\n",
      "6.jpg\n",
      "7.jpg\n",
      "8.jpg\n",
      "9.jpg\n",
      "9872822.jpg\n"
     ]
    }
   ],
   "source": [
    "face_data = []\n",
    "for root, dirs, files in os.walk('c:/users/ximzz/desktop/face/crop/resize'):\n",
    "    for file in files:\n",
    "        print(file)\n",
    "        image_files = 'c:/users/ximzz/desktop/face/crop/resize/'+file\n",
    "        image = cv2.imread(image_files)\n",
    "        face_data.append(image)"
   ]
  },
  {
   "cell_type": "code",
   "execution_count": 6,
   "metadata": {},
   "outputs": [],
   "source": [
    "face_array = np.array(face_data)"
   ]
  },
  {
   "cell_type": "code",
   "execution_count": 7,
   "metadata": {},
   "outputs": [
    {
     "data": {
      "text/plain": [
       "(27, 983, 768, 3)"
      ]
     },
     "execution_count": 7,
     "metadata": {},
     "output_type": "execute_result"
    }
   ],
   "source": [
    "face_array.shape"
   ]
  },
  {
   "cell_type": "code",
   "execution_count": 15,
   "metadata": {},
   "outputs": [],
   "source": [
    "y = np.zeros((27,2),dtype=np.int32)\n",
    "y[[5,6,7,8,18,19,20,21,22,23,24,25],[0]] =1\n"
   ]
  },
  {
   "cell_type": "code",
   "execution_count": 19,
   "metadata": {},
   "outputs": [
    {
     "data": {
      "text/plain": [
       "array([[0, 1],\n",
       "       [0, 1],\n",
       "       [0, 1],\n",
       "       [0, 1],\n",
       "       [0, 1],\n",
       "       [1, 0],\n",
       "       [1, 0],\n",
       "       [1, 0],\n",
       "       [1, 0],\n",
       "       [0, 1],\n",
       "       [0, 1],\n",
       "       [0, 1],\n",
       "       [0, 1],\n",
       "       [0, 1],\n",
       "       [0, 1],\n",
       "       [0, 1],\n",
       "       [0, 1],\n",
       "       [0, 1],\n",
       "       [1, 0],\n",
       "       [1, 0],\n",
       "       [1, 0],\n",
       "       [1, 0],\n",
       "       [1, 0],\n",
       "       [1, 0],\n",
       "       [1, 0],\n",
       "       [1, 0],\n",
       "       [0, 1]])"
      ]
     },
     "execution_count": 19,
     "metadata": {},
     "output_type": "execute_result"
    }
   ],
   "source": [
    "y[[0,1,2,3,4,9,10,11,12,13,14,15,16,17,26],[1]]=1\n",
    "y"
   ]
  },
  {
   "cell_type": "code",
   "execution_count": 21,
   "metadata": {},
   "outputs": [],
   "source": [
    "learning_rate = 0.001\n",
    "training_epoch= 15\n",
    "batch_size =100\n",
    "keep_prob = tf.placeholder(tf.float32)\n",
    "training= True\n",
    "\n",
    "X= tf.placeholder(tf.float32, shape=[None, 983,768,3 ])\n",
    "Y= tf.placeholder(tf.float32, shape=[None, 2])\n",
    "\n",
    "\n",
    "conv1 = tf.layers.conv2d(inputs = X, filters = 32, kernel_size=[3,3], padding='SAME',\n",
    "        activation = tf.nn.relu)\n",
    "pool1 = tf.layers.max_pooling2d(inputs = conv1, pool_size=[2,2],\n",
    "                        padding = 'SAME', strides=2)\n",
    "dropout1 = tf.layers.dropout(inputs=pool1, rate=0.7,\n",
    "                training=training)\n",
    "\n",
    "# after shape=(492,384)\n",
    "\n",
    "conv2 = tf.layers.conv2d(inputs =dropout1 , filters = 64, kernel_size=[3,3], padding='SAME',\n",
    "                                    activation = tf.nn.relu)\n",
    "pool2 = tf.layers.max_pooling2d(inputs = conv2, pool_size=[2,2],\n",
    "                                       padding = 'SAME', strides=2)\n",
    "dropout2 = tf.layers.dropout(inputs=pool2, rate=0.7,\n",
    "                                        training=training) \n",
    "# after shape =(246, 192)\n",
    "\n",
    "conv3 = tf.layers.conv2d(inputs = dropout2, filters = 128, kernel_size=[3,3], padding='SAME',\n",
    "                                    activation = tf.nn.relu) \n",
    "pool3 = tf.layers.max_pooling2d(inputs = conv3, pool_size=[2,2],\n",
    "                                       padding = 'SAME', strides=2)\n",
    "dropout3 = tf.layers.dropout(inputs=pool3, rate=0.7,\n",
    "                                        training=training) #트루면 먹이고 false면 안맥임\n",
    "\n",
    "#after shape =(123,96)\n",
    "\n",
    "flat = tf.reshape(dropout3, [-1,123*96*128])\n",
    "dense4 = tf.layers.dense(inputs = flat, units = 625, activation=tf.nn.relu)\n",
    "dropout4 = tf.layers.dropout(inputs=dense4,rate=0.5,\n",
    "                                        training=training)\n",
    "            \n",
    "logits = tf.layers.dense(inputs = dropout4, units=2)\n",
    "\n",
    "cost= tf.reduce_mean(tf.nn.softmax_cross_entropy_with_logits(logits = logits, labels=Y))\n",
    "optimizer= tf.train.AdamOptimizer(learning_rate=learning_rate).minimize(cost)\n",
    "\n",
    "correct_prediction = tf.equal(tf.argmax(logits,1), tf.argmax(Y,1))\n",
    "accuracy = tf.reduce_mean(tf.cast(correct_prediction, tf.float32))\n",
    "        \n",
    "def predict(x_test, training=False):\n",
    "            return sess.run(logits, feed_dict={X:x_test,\n",
    "                                                     training:training})\n",
    "    \n",
    "    \n",
    "def get_accuracy(x_test, y_test, training=False):\n",
    "        return self.sess.run(self.accuracy, feed_dict={X:x_test, Y:y_test, \n",
    "                                                       training:training})\n",
    "    \n",
    "def train(x_data, y_data, training=True):\n",
    "        return sess.run([cost, optimizer], feed_dict={X:x_data,\n",
    "                                                            Y:y_data,\n",
    "                                                            training:training})"
   ]
  },
  {
   "cell_type": "code",
   "execution_count": null,
   "metadata": {},
   "outputs": [
    {
     "name": "stdout",
     "output_type": "stream",
     "text": [
      "Epoch : 0 cost :  231.243\n"
     ]
    }
   ],
   "source": [
    "sess = tf.Session()\n",
    "sess.run(tf.global_variables_initializer())\n",
    "\n",
    "for epoch in range(2000):\n",
    "\n",
    "    c,_ = sess.run([cost, optimizer], feed_dict={X: face_array, Y:y, keep_prob:0.5})\n",
    "    print(\"Epoch :\", epoch , \"cost : \",c)"
   ]
  },
  {
   "cell_type": "code",
   "execution_count": null,
   "metadata": {},
   "outputs": [],
   "source": []
  }
 ],
 "metadata": {
  "kernelspec": {
   "display_name": "Python 3",
   "language": "python",
   "name": "python3"
  },
  "language_info": {
   "codemirror_mode": {
    "name": "ipython",
    "version": 3
   },
   "file_extension": ".py",
   "mimetype": "text/x-python",
   "name": "python",
   "nbconvert_exporter": "python",
   "pygments_lexer": "ipython3",
   "version": "3.6.4"
  }
 },
 "nbformat": 4,
 "nbformat_minor": 2
}
